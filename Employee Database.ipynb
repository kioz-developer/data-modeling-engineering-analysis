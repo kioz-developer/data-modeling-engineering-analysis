{
 "cells": [
  {
   "cell_type": "code",
   "execution_count": 1,
   "id": "spectacular-crown",
   "metadata": {},
   "outputs": [],
   "source": [
    "from sqlalchemy.ext.automap import automap_base\n",
    "from sqlalchemy.orm import Session\n",
    "from sqlalchemy import create_engine, MetaData, Table, Column, Float, Integer, String, extract, distinct, ForeignKey\n",
    "from sqlalchemy.engine import reflection\n",
    "from config import engine_url\n",
    "import pandas as pd\n",
    "import datetime as dt\n",
    "from sqlalchemy.orm import relationship"
   ]
  },
  {
   "cell_type": "markdown",
   "id": "stylish-motivation",
   "metadata": {},
   "source": [
    "<h2>Data Modeling</h2>"
   ]
  },
  {
   "cell_type": "code",
   "execution_count": 70,
   "id": "native-answer",
   "metadata": {},
   "outputs": [],
   "source": [
    "# Check EmployeeSQL/ER.png"
   ]
  },
  {
   "cell_type": "markdown",
   "id": "revolutionary-fellow",
   "metadata": {},
   "source": [
    "<h2>Data Engineering</h2>"
   ]
  },
  {
   "cell_type": "code",
   "execution_count": 71,
   "id": "documented-frequency",
   "metadata": {},
   "outputs": [],
   "source": [
    "# Check EmployeeSQL/schema.sql"
   ]
  },
  {
   "cell_type": "code",
   "execution_count": 72,
   "id": "handmade-metabolism",
   "metadata": {},
   "outputs": [],
   "source": [
    "# Import each CSV file into the corresponding SQL table"
   ]
  },
  {
   "cell_type": "code",
   "execution_count": 2,
   "id": "recent-factory",
   "metadata": {},
   "outputs": [],
   "source": [
    "engine = create_engine(engine_url)\n",
    "connection = engine.connect()"
   ]
  },
  {
   "cell_type": "code",
   "execution_count": 18,
   "id": "dominican-google",
   "metadata": {},
   "outputs": [],
   "source": [
    "metadata = MetaData()\n",
    "metadata.reflect(engine, only=['employees', 'titles', 'departments', 'salaries'])\n",
    "\n",
    "Table('dept_emp', metadata,\n",
    "    Column('emp_no', Integer, primary_key=True),\n",
    "    Column('dept_no', String, primary_key=True)\n",
    ")\n",
    "\n",
    "Table('dept_manager', metadata,\n",
    "    Column('dept_no', String, primary_key=True),\n",
    "    Column('emp_no', Integer, primary_key=True)\n",
    ")\n",
    "\n",
    "Base = automap_base(metadata=metadata)\n",
    "Base.prepare()"
   ]
  },
  {
   "cell_type": "code",
   "execution_count": 3,
   "id": "domestic-internship",
   "metadata": {},
   "outputs": [],
   "source": [
    "#\n",
    "metadata = MetaData()\n",
    "metadata.reflect(engine, only=['employees', 'titles', 'departments', 'salaries'])\n",
    "\n",
    "Table('dept_emp', metadata,\n",
    "    Column('emp_no', Integer, primary_key=True),\n",
    "    Column('dept_no', String, primary_key=True)\n",
    ")\n",
    "\n",
    "Table('dept_manager', metadata,\n",
    "    Column('dept_no', String, ForeignKey(\"departments.dept_no\"), primary_key=True),\n",
    "    Column('emp_no', Integer, ForeignKey(\"employees.emp_no\"), primary_key=True)\n",
    ")\n",
    "\n",
    "Base = automap_base(metadata=metadata)\n",
    "Base.prepare()"
   ]
  },
  {
   "cell_type": "code",
   "execution_count": 4,
   "id": "contained-secretariat",
   "metadata": {},
   "outputs": [
    {
     "name": "stdout",
     "output_type": "stream",
     "text": [
      "employees\n",
      "titles\n",
      "departments\n",
      "salaries\n",
      "dept_emp\n"
     ]
    }
   ],
   "source": [
    "# Check imported tables\n",
    "for name in Base.classes.keys():\n",
    "    print(name)"
   ]
  },
  {
   "cell_type": "code",
   "execution_count": 11,
   "id": "opposite-advocate",
   "metadata": {},
   "outputs": [],
   "source": [
    "Departments = Base.classes.departments\n",
    "#Dept_emp = Base.classes.dept_emp\n",
    "#Dept_manager = Base.classes.dept_manager\n",
    "Employees = Base.classes.employees\n",
    "Salaries = Base.classes.salaries\n",
    "Titles = Base.classes.titles"
   ]
  },
  {
   "cell_type": "code",
   "execution_count": 21,
   "id": "middle-tongue",
   "metadata": {},
   "outputs": [
    {
     "name": "stdout",
     "output_type": "stream",
     "text": [
      "emp_no INTEGER\n",
      "salary INTEGER\n"
     ]
    }
   ],
   "source": [
    "# Check imported columns for an specific table\n",
    "table_name = \"salaries\"\n",
    "inspector = reflection.Inspector.from_engine(engine)\n",
    "columns = inspector.get_columns(table_name=table_name)\n",
    "\n",
    "for c in columns:\n",
    "    print(c['name'], c[\"type\"])"
   ]
  },
  {
   "cell_type": "code",
   "execution_count": 22,
   "id": "excess-romantic",
   "metadata": {},
   "outputs": [],
   "source": [
    "# Open session\n",
    "session = Session(engine)"
   ]
  },
  {
   "cell_type": "code",
   "execution_count": 14,
   "id": "animal-cambodia",
   "metadata": {},
   "outputs": [],
   "source": [
    "# Read all data \n",
    "data_departments = pd.read_csv(\"./data/departments.csv\")\n",
    "data_titles = pd.read_csv(\"./data/titles.csv\")\n",
    "data_employees = pd.read_csv(\"./data/employees.csv\")\n",
    "data_dept_emp = pd.read_csv(\"./data/dept_emp.csv\")\n",
    "data_dept_manager = pd.read_csv(\"./data/dept_manager.csv\")\n",
    "data_salaries = pd.read_csv(\"./data/salaries.csv\")\n"
   ]
  },
  {
   "cell_type": "code",
   "execution_count": 63,
   "id": "adopted-candle",
   "metadata": {},
   "outputs": [
    {
     "data": {
      "text/html": [
       "<div>\n",
       "<style scoped>\n",
       "    .dataframe tbody tr th:only-of-type {\n",
       "        vertical-align: middle;\n",
       "    }\n",
       "\n",
       "    .dataframe tbody tr th {\n",
       "        vertical-align: top;\n",
       "    }\n",
       "\n",
       "    .dataframe thead th {\n",
       "        text-align: right;\n",
       "    }\n",
       "</style>\n",
       "<table border=\"1\" class=\"dataframe\">\n",
       "  <thead>\n",
       "    <tr style=\"text-align: right;\">\n",
       "      <th></th>\n",
       "      <th>emp_no</th>\n",
       "      <th>salary</th>\n",
       "    </tr>\n",
       "  </thead>\n",
       "  <tbody>\n",
       "    <tr>\n",
       "      <th>0</th>\n",
       "      <td>10001</td>\n",
       "      <td>60117</td>\n",
       "    </tr>\n",
       "    <tr>\n",
       "      <th>1</th>\n",
       "      <td>10002</td>\n",
       "      <td>65828</td>\n",
       "    </tr>\n",
       "  </tbody>\n",
       "</table>\n",
       "</div>"
      ],
      "text/plain": [
       "   emp_no  salary\n",
       "0   10001   60117\n",
       "1   10002   65828"
      ]
     },
     "execution_count": 63,
     "metadata": {},
     "output_type": "execute_result"
    }
   ],
   "source": [
    "# Inspect one of them\n",
    "data_salaries.head(2)"
   ]
  },
  {
   "cell_type": "code",
   "execution_count": 64,
   "id": "regular-sensitivity",
   "metadata": {},
   "outputs": [
    {
     "name": "stdout",
     "output_type": "stream",
     "text": [
      "emp_no\n",
      "salary\n"
     ]
    }
   ],
   "source": [
    "# Ckeck imported columns\n",
    "for col in Salaries.__table__.columns.keys():\n",
    "    print(col)"
   ]
  },
  {
   "cell_type": "code",
   "execution_count": 29,
   "id": "wanted-specialist",
   "metadata": {},
   "outputs": [],
   "source": [
    "# Import each department to db\n",
    "for index, row in data_departments.iterrows():\n",
    "    #print(row[\"dept_no\"], row[\"dept_name\"])\n",
    "    session.add(Departments(dept_no=row[\"dept_no\"], dept_name=row[\"dept_name\"]))\n",
    "\n",
    "session.commit()"
   ]
  },
  {
   "cell_type": "code",
   "execution_count": 27,
   "id": "sunset-sewing",
   "metadata": {},
   "outputs": [],
   "source": [
    "# Import each title to db\n",
    "for index, row in data_titles.iterrows():\n",
    "    session.add(Titles(title_id=row[\"title_id\"], title=row[\"title\"]))\n",
    "\n",
    "session.commit()"
   ]
  },
  {
   "cell_type": "code",
   "execution_count": 39,
   "id": "horizontal-prairie",
   "metadata": {},
   "outputs": [],
   "source": [
    "# Import each employee to db\n",
    "for index, row in data_employees.iterrows():\n",
    "    #print(row[\"emp_no\"], row[\"emp_title_id\"])\n",
    "    session.add(Employees(\n",
    "        emp_no=row[\"emp_no\"], \n",
    "        emp_title_id=row[\"emp_title_id\"], \n",
    "        birth_date=dt.datetime.strptime(row[\"birth_date\"], '%m/%d/%Y'), \n",
    "        first_name=row[\"first_name\"], \n",
    "        last_name=row[\"last_name\"], \n",
    "        sex=row[\"sex\"], \n",
    "        hire_date=dt.datetime.strptime(row[\"hire_date\"], '%m/%d/%Y')\n",
    "    ))\n",
    "\n",
    "session.commit()"
   ]
  },
  {
   "cell_type": "code",
   "execution_count": 43,
   "id": "unknown-canadian",
   "metadata": {},
   "outputs": [],
   "source": [
    "# Import dept_emp to db\n",
    "for index, row in data_dept_emp.iterrows():\n",
    "    session.add(Dept_emp(emp_no=row[\"emp_no\"], dept_no=row[\"dept_no\"]))\n",
    "\n",
    "session.commit()"
   ]
  },
  {
   "cell_type": "code",
   "execution_count": 46,
   "id": "medical-pollution",
   "metadata": {},
   "outputs": [],
   "source": [
    "# Import dept_manager to db\n",
    "for index, row in data_dept_manager.iterrows():\n",
    "    session.add(Dept_manager(dept_no=row[\"dept_no\"], emp_no=row[\"emp_no\"]))\n",
    "\n",
    "session.commit()"
   ]
  },
  {
   "cell_type": "code",
   "execution_count": 57,
   "id": "grave-commitment",
   "metadata": {},
   "outputs": [
    {
     "data": {
      "text/plain": [
       "emp_no    int64\n",
       "salary    int64\n",
       "dtype: object"
      ]
     },
     "execution_count": 57,
     "metadata": {},
     "output_type": "execute_result"
    }
   ],
   "source": [
    "data_salaries.dtypes"
   ]
  },
  {
   "cell_type": "code",
   "execution_count": 68,
   "id": "supreme-dietary",
   "metadata": {},
   "outputs": [],
   "source": [
    "# Import salaries to db\n",
    "for index, row in data_salaries.iterrows():\n",
    "    session.add(Salaries(emp_no=int(row[\"emp_no\"]), salary=int(row[\"salary\"])))\n",
    "\n",
    "session.commit()"
   ]
  },
  {
   "cell_type": "markdown",
   "id": "iraqi-express",
   "metadata": {},
   "source": [
    "<h2>Data Analysis</h2>"
   ]
  },
  {
   "cell_type": "code",
   "execution_count": 20,
   "id": "thrown-cheese",
   "metadata": {},
   "outputs": [],
   "source": [
    "conn = engine.connect()"
   ]
  },
  {
   "cell_type": "code",
   "execution_count": 57,
   "id": "internal-gnome",
   "metadata": {},
   "outputs": [
    {
     "name": "stdout",
     "output_type": "stream",
     "text": [
      "(10001, 'Facello', 'Georgi', 'M', 'M', 60117)\n",
      "(10002, 'Simmel', 'Bezalel', 'F', 'F', 65828)\n",
      "(10003, 'Bamford', 'Parto', 'M', 'M', 40006)\n",
      "(10004, 'Koblick', 'Chirstian', 'M', 'M', 40054)\n",
      "(10005, 'Maliniak', 'Kyoichi', 'M', 'M', 78228)\n",
      "(10006, 'Preusig', 'Anneke', 'F', 'F', 40000)\n",
      "(10007, 'Zielinski', 'Tzvetan', 'F', 'F', 56724)\n",
      "(10008, 'Kalloufi', 'Saniya', 'M', 'M', 46671)\n",
      "(10009, 'Peac', 'Sumant', 'F', 'F', 60929)\n",
      "(10010, 'Piveteau', 'Duangkaew', 'F', 'F', 72488)\n"
     ]
    }
   ],
   "source": [
    "# List the following details of each employee: employee number, last name, first name, sex, and salary.\n",
    "results = session.query(\n",
    "    Employees.emp_no, \n",
    "    Employees.last_name, \n",
    "    Employees.first_name, \n",
    "    Employees.sex, \n",
    "    Employees.sex, \n",
    "    Salaries.salary\n",
    ").filter(\n",
    "    Employees.emp_no == Salaries.emp_no\n",
    ").limit(10).all()\n",
    "\n",
    "for result in results:\n",
    "    print(result)"
   ]
  },
  {
   "cell_type": "code",
   "execution_count": 58,
   "id": "associate-length",
   "metadata": {},
   "outputs": [
    {
     "name": "stdout",
     "output_type": "stream",
     "text": [
      "('Eran', 'Cusworth', datetime.date(1986, 11, 14))\n",
      "('Bojan', 'Zallocco', datetime.date(1986, 10, 14))\n",
      "('Nevio', 'Demizu', datetime.date(1986, 5, 18))\n",
      "('Ziva', 'Vecchi', datetime.date(1986, 7, 3))\n",
      "('Mohit', 'Speek', datetime.date(1986, 1, 14))\n",
      "('Qunsheng', 'Speer', datetime.date(1986, 2, 13))\n",
      "('Dines', 'Encarnacion', datetime.date(1986, 8, 2))\n",
      "('Harngdar', 'Swick', datetime.date(1986, 5, 28))\n",
      "('Freyja', 'Uhrig', datetime.date(1986, 12, 20))\n",
      "('Zhenhua', 'Milicic', datetime.date(1986, 8, 4))\n"
     ]
    }
   ],
   "source": [
    "# List first name, last name, and hire date for employees who were hired in 1986.\n",
    "results = session.query(\n",
    "    Employees.first_name, \n",
    "    Employees.last_name, \n",
    "    Employees.hire_date, \n",
    ").filter(\n",
    "    extract('year', Employees.hire_date) == 1986\n",
    ").limit(10).all()\n",
    "\n",
    "for result in results:\n",
    "    print(result)"
   ]
  },
  {
   "cell_type": "code",
   "execution_count": null,
   "id": "nominated-psychology",
   "metadata": {},
   "outputs": [],
   "source": []
  },
  {
   "cell_type": "code",
   "execution_count": 36,
   "id": "operating-violence",
   "metadata": {},
   "outputs": [
    {
     "name": "stdout",
     "output_type": "stream",
     "text": [
      "(473302, 'Zallocco', 'Hideyuki', 'Development')\n",
      "(475053, 'Delgrande', 'Byong', 'Development')\n",
      "(57444, 'Babb', 'Berry', 'Development')\n",
      "(421786, 'Verhoeff', 'Xiong', 'Development')\n",
      "(282238, 'Baumann', 'Abdelkader', 'Development')\n",
      "(263976, 'Cusworth', 'Eran', 'Development')\n",
      "(273487, 'Parfitt', 'Christoph', 'Development')\n",
      "(461591, 'Samarati', 'Xudong', 'Development')\n",
      "(477657, 'Magliocco', 'Lihong', 'Development')\n",
      "(219881, 'Speek', 'Kwangyoen', 'Development')\n"
     ]
    }
   ],
   "source": [
    "# List the department of each employee with the following information: \n",
    "#  employee number, last name, first name, and department name.\n",
    "results = session.query(\n",
    "    Employees.emp_no, \n",
    "    Employees.last_name, \n",
    "    Employees.first_name,\n",
    "    Departments.dept_name\n",
    ").filter(\n",
    "    Dept_emp.dept_no == Departments.dept_no and \n",
    "    Dept_emp.emp_no == Employees.emp_no\n",
    ").limit(10).all()\n",
    "\n",
    "for result in results:\n",
    "    print(result)"
   ]
  },
  {
   "cell_type": "code",
   "execution_count": 15,
   "id": "bizarre-growing",
   "metadata": {},
   "outputs": [],
   "source": [
    "session.close()"
   ]
  },
  {
   "cell_type": "code",
   "execution_count": 56,
   "id": "endangered-syntax",
   "metadata": {},
   "outputs": [],
   "source": [
    "session.rollback()"
   ]
  },
  {
   "cell_type": "code",
   "execution_count": 13,
   "id": "unlikely-swift",
   "metadata": {},
   "outputs": [
    {
     "data": {
      "text/plain": [
       "['employees', 'titles', 'departments', 'salaries']"
      ]
     },
     "execution_count": 13,
     "metadata": {},
     "output_type": "execute_result"
    }
   ],
   "source": [
    "Base = automap_base()\n",
    "Base.prepare(engine, reflect=True)\n",
    "Base.classes.keys()"
   ]
  },
  {
   "cell_type": "code",
   "execution_count": 14,
   "id": "spare-digest",
   "metadata": {},
   "outputs": [],
   "source": [
    "# create a session\n",
    "session = Session(engine)"
   ]
  },
  {
   "cell_type": "code",
   "execution_count": 16,
   "id": "dominant-oxide",
   "metadata": {},
   "outputs": [],
   "source": [
    "Departments = Base.classes.departments\n",
    "#Dept_emp = Base.classes.dept_emp\n",
    "#Dept_manager = Base.classes.dept_manager\n",
    "Employees = Base.classes.employees\n",
    "Salaries = Base.classes.salaries\n",
    "Titles = Base.classes.titles"
   ]
  },
  {
   "cell_type": "code",
   "execution_count": 25,
   "id": "different-desktop",
   "metadata": {},
   "outputs": [],
   "source": [
    "\n"
   ]
  },
  {
   "cell_type": "code",
   "execution_count": null,
   "id": "effective-barbados",
   "metadata": {},
   "outputs": [],
   "source": []
  },
  {
   "cell_type": "code",
   "execution_count": 21,
   "id": "wrong-sequence",
   "metadata": {},
   "outputs": [],
   "source": []
  },
  {
   "cell_type": "code",
   "execution_count": 27,
   "id": "operating-pitch",
   "metadata": {},
   "outputs": [
    {
     "data": {
      "text/html": [
       "<div>\n",
       "<style scoped>\n",
       "    .dataframe tbody tr th:only-of-type {\n",
       "        vertical-align: middle;\n",
       "    }\n",
       "\n",
       "    .dataframe tbody tr th {\n",
       "        vertical-align: top;\n",
       "    }\n",
       "\n",
       "    .dataframe thead th {\n",
       "        text-align: right;\n",
       "    }\n",
       "</style>\n",
       "<table border=\"1\" class=\"dataframe\">\n",
       "  <thead>\n",
       "    <tr style=\"text-align: right;\">\n",
       "      <th></th>\n",
       "      <th>dept_no</th>\n",
       "      <th>emp_no</th>\n",
       "      <th>first_name</th>\n",
       "      <th>last_name</th>\n",
       "    </tr>\n",
       "  </thead>\n",
       "  <tbody>\n",
       "    <tr>\n",
       "      <th>0</th>\n",
       "      <td>d001</td>\n",
       "      <td>110022</td>\n",
       "      <td>Margareta</td>\n",
       "      <td>Markovitch</td>\n",
       "    </tr>\n",
       "    <tr>\n",
       "      <th>1</th>\n",
       "      <td>d001</td>\n",
       "      <td>110039</td>\n",
       "      <td>Vishwani</td>\n",
       "      <td>Minakawa</td>\n",
       "    </tr>\n",
       "    <tr>\n",
       "      <th>2</th>\n",
       "      <td>d002</td>\n",
       "      <td>110085</td>\n",
       "      <td>Ebru</td>\n",
       "      <td>Alpin</td>\n",
       "    </tr>\n",
       "  </tbody>\n",
       "</table>\n",
       "</div>"
      ],
      "text/plain": [
       "  dept_no  emp_no first_name   last_name\n",
       "0    d001  110022  Margareta  Markovitch\n",
       "1    d001  110039   Vishwani    Minakawa\n",
       "2    d002  110085       Ebru       Alpin"
      ]
     },
     "execution_count": 27,
     "metadata": {},
     "output_type": "execute_result"
    }
   ],
   "source": [
    "# 4. List the manager of each department with the following information: \n",
    "#  department number, department name, the manager's employee number, last name, first name.\n",
    "query_4 = \"\"\"\n",
    "SELECT d.dept_no, dp.emp_no, e.first_name, e.last_name \n",
    "FROM departments d\n",
    "    JOIN dept_manager dp ON d.dept_no = dp.dept_no \n",
    "    JOIN employees e ON e.emp_no = dp.emp_no\n",
    "GROUP BY d.dept_no, dp.emp_no, e.emp_no;\n",
    "\"\"\"\n",
    "\n",
    "data_4 = pd.read_sql(query_4, conn)\n",
    "data_4.head(3)"
   ]
  },
  {
   "cell_type": "code",
   "execution_count": 23,
   "id": "numerous-charlotte",
   "metadata": {},
   "outputs": [],
   "source": [
    "# 5. List first name, last name, and sex for employees whose first name is \"Hercules\" and last names begin with \"B.\"\n",
    "query_5 = \"\"\"\n",
    "SELECT d.dept_no, dp.emp_no, e.first_name, e.last_name \n",
    "FROM departments d\n",
    "    JOIN dept_manager dp ON d.dept_no = dp.dept_no \n",
    "    JOIN employees e ON e.emp_no = dp.emp_no\n",
    "GROUP BY d.dept_no, dp.emp_no, e.emp_no;\n",
    "\"\"\"\n",
    "\n",
    "data_5 = pd.read_sql(query_5, conn)\n",
    "data_5.head(3)"
   ]
  },
  {
   "cell_type": "code",
   "execution_count": 24,
   "id": "least-antenna",
   "metadata": {},
   "outputs": [
    {
     "data": {
      "text/html": [
       "<div>\n",
       "<style scoped>\n",
       "    .dataframe tbody tr th:only-of-type {\n",
       "        vertical-align: middle;\n",
       "    }\n",
       "\n",
       "    .dataframe tbody tr th {\n",
       "        vertical-align: top;\n",
       "    }\n",
       "\n",
       "    .dataframe thead th {\n",
       "        text-align: right;\n",
       "    }\n",
       "</style>\n",
       "<table border=\"1\" class=\"dataframe\">\n",
       "  <thead>\n",
       "    <tr style=\"text-align: right;\">\n",
       "      <th></th>\n",
       "      <th>dept_no</th>\n",
       "      <th>emp_no</th>\n",
       "      <th>first_name</th>\n",
       "      <th>last_name</th>\n",
       "    </tr>\n",
       "  </thead>\n",
       "  <tbody>\n",
       "    <tr>\n",
       "      <th>0</th>\n",
       "      <td>d001</td>\n",
       "      <td>110022</td>\n",
       "      <td>Margareta</td>\n",
       "      <td>Markovitch</td>\n",
       "    </tr>\n",
       "    <tr>\n",
       "      <th>1</th>\n",
       "      <td>d001</td>\n",
       "      <td>110039</td>\n",
       "      <td>Vishwani</td>\n",
       "      <td>Minakawa</td>\n",
       "    </tr>\n",
       "    <tr>\n",
       "      <th>2</th>\n",
       "      <td>d002</td>\n",
       "      <td>110085</td>\n",
       "      <td>Ebru</td>\n",
       "      <td>Alpin</td>\n",
       "    </tr>\n",
       "    <tr>\n",
       "      <th>3</th>\n",
       "      <td>d002</td>\n",
       "      <td>110114</td>\n",
       "      <td>Isamu</td>\n",
       "      <td>Legleitner</td>\n",
       "    </tr>\n",
       "    <tr>\n",
       "      <th>4</th>\n",
       "      <td>d003</td>\n",
       "      <td>110183</td>\n",
       "      <td>Shirish</td>\n",
       "      <td>Ossenbruggen</td>\n",
       "    </tr>\n",
       "    <tr>\n",
       "      <th>5</th>\n",
       "      <td>d003</td>\n",
       "      <td>110228</td>\n",
       "      <td>Karsten</td>\n",
       "      <td>Sigstam</td>\n",
       "    </tr>\n",
       "    <tr>\n",
       "      <th>6</th>\n",
       "      <td>d004</td>\n",
       "      <td>110303</td>\n",
       "      <td>Krassimir</td>\n",
       "      <td>Wegerle</td>\n",
       "    </tr>\n",
       "    <tr>\n",
       "      <th>7</th>\n",
       "      <td>d004</td>\n",
       "      <td>110344</td>\n",
       "      <td>Rosine</td>\n",
       "      <td>Cools</td>\n",
       "    </tr>\n",
       "    <tr>\n",
       "      <th>8</th>\n",
       "      <td>d004</td>\n",
       "      <td>110386</td>\n",
       "      <td>Shem</td>\n",
       "      <td>Kieras</td>\n",
       "    </tr>\n",
       "    <tr>\n",
       "      <th>9</th>\n",
       "      <td>d004</td>\n",
       "      <td>110420</td>\n",
       "      <td>Oscar</td>\n",
       "      <td>Ghazalie</td>\n",
       "    </tr>\n",
       "    <tr>\n",
       "      <th>10</th>\n",
       "      <td>d005</td>\n",
       "      <td>110511</td>\n",
       "      <td>DeForest</td>\n",
       "      <td>Hagimont</td>\n",
       "    </tr>\n",
       "    <tr>\n",
       "      <th>11</th>\n",
       "      <td>d005</td>\n",
       "      <td>110567</td>\n",
       "      <td>Leon</td>\n",
       "      <td>DasSarma</td>\n",
       "    </tr>\n",
       "    <tr>\n",
       "      <th>12</th>\n",
       "      <td>d006</td>\n",
       "      <td>110725</td>\n",
       "      <td>Peternela</td>\n",
       "      <td>Onuegbe</td>\n",
       "    </tr>\n",
       "    <tr>\n",
       "      <th>13</th>\n",
       "      <td>d006</td>\n",
       "      <td>110765</td>\n",
       "      <td>Rutger</td>\n",
       "      <td>Hofmeyr</td>\n",
       "    </tr>\n",
       "    <tr>\n",
       "      <th>14</th>\n",
       "      <td>d006</td>\n",
       "      <td>110800</td>\n",
       "      <td>Sanjoy</td>\n",
       "      <td>Quadeer</td>\n",
       "    </tr>\n",
       "    <tr>\n",
       "      <th>15</th>\n",
       "      <td>d006</td>\n",
       "      <td>110854</td>\n",
       "      <td>Dung</td>\n",
       "      <td>Pesch</td>\n",
       "    </tr>\n",
       "    <tr>\n",
       "      <th>16</th>\n",
       "      <td>d007</td>\n",
       "      <td>111035</td>\n",
       "      <td>Przemyslawa</td>\n",
       "      <td>Kaelbling</td>\n",
       "    </tr>\n",
       "    <tr>\n",
       "      <th>17</th>\n",
       "      <td>d007</td>\n",
       "      <td>111133</td>\n",
       "      <td>Hauke</td>\n",
       "      <td>Zhang</td>\n",
       "    </tr>\n",
       "    <tr>\n",
       "      <th>18</th>\n",
       "      <td>d008</td>\n",
       "      <td>111400</td>\n",
       "      <td>Arie</td>\n",
       "      <td>Staelin</td>\n",
       "    </tr>\n",
       "    <tr>\n",
       "      <th>19</th>\n",
       "      <td>d008</td>\n",
       "      <td>111534</td>\n",
       "      <td>Hilary</td>\n",
       "      <td>Kambil</td>\n",
       "    </tr>\n",
       "    <tr>\n",
       "      <th>20</th>\n",
       "      <td>d009</td>\n",
       "      <td>111692</td>\n",
       "      <td>Tonny</td>\n",
       "      <td>Butterworth</td>\n",
       "    </tr>\n",
       "    <tr>\n",
       "      <th>21</th>\n",
       "      <td>d009</td>\n",
       "      <td>111784</td>\n",
       "      <td>Marjo</td>\n",
       "      <td>Giarratana</td>\n",
       "    </tr>\n",
       "    <tr>\n",
       "      <th>22</th>\n",
       "      <td>d009</td>\n",
       "      <td>111877</td>\n",
       "      <td>Xiaobin</td>\n",
       "      <td>Spinelli</td>\n",
       "    </tr>\n",
       "    <tr>\n",
       "      <th>23</th>\n",
       "      <td>d009</td>\n",
       "      <td>111939</td>\n",
       "      <td>Yuchang</td>\n",
       "      <td>Weedman</td>\n",
       "    </tr>\n",
       "  </tbody>\n",
       "</table>\n",
       "</div>"
      ],
      "text/plain": [
       "   dept_no  emp_no   first_name     last_name\n",
       "0     d001  110022    Margareta    Markovitch\n",
       "1     d001  110039     Vishwani      Minakawa\n",
       "2     d002  110085         Ebru         Alpin\n",
       "3     d002  110114        Isamu    Legleitner\n",
       "4     d003  110183      Shirish  Ossenbruggen\n",
       "5     d003  110228      Karsten       Sigstam\n",
       "6     d004  110303    Krassimir       Wegerle\n",
       "7     d004  110344       Rosine         Cools\n",
       "8     d004  110386         Shem        Kieras\n",
       "9     d004  110420        Oscar      Ghazalie\n",
       "10    d005  110511     DeForest      Hagimont\n",
       "11    d005  110567         Leon      DasSarma\n",
       "12    d006  110725    Peternela       Onuegbe\n",
       "13    d006  110765       Rutger       Hofmeyr\n",
       "14    d006  110800       Sanjoy       Quadeer\n",
       "15    d006  110854         Dung         Pesch\n",
       "16    d007  111035  Przemyslawa     Kaelbling\n",
       "17    d007  111133        Hauke         Zhang\n",
       "18    d008  111400         Arie       Staelin\n",
       "19    d008  111534       Hilary        Kambil\n",
       "20    d009  111692        Tonny   Butterworth\n",
       "21    d009  111784        Marjo    Giarratana\n",
       "22    d009  111877      Xiaobin      Spinelli\n",
       "23    d009  111939      Yuchang       Weedman"
      ]
     },
     "execution_count": 24,
     "metadata": {},
     "output_type": "execute_result"
    }
   ],
   "source": []
  },
  {
   "cell_type": "code",
   "execution_count": null,
   "id": "happy-revolution",
   "metadata": {},
   "outputs": [],
   "source": []
  }
 ],
 "metadata": {
  "kernelspec": {
   "display_name": "Python [conda env:pythonData] *",
   "language": "python",
   "name": "conda-env-pythonData-py"
  },
  "language_info": {
   "codemirror_mode": {
    "name": "ipython",
    "version": 3
   },
   "file_extension": ".py",
   "mimetype": "text/x-python",
   "name": "python",
   "nbconvert_exporter": "python",
   "pygments_lexer": "ipython3",
   "version": "3.6.10"
  }
 },
 "nbformat": 4,
 "nbformat_minor": 5
}

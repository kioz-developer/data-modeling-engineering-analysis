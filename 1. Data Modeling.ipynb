{
 "cells": [
  {
   "cell_type": "markdown",
   "id": "electoral-ground",
   "metadata": {},
   "source": [
    "<h2><center>Data Modeling</center></h2>"
   ]
  },
  {
   "cell_type": "code",
   "execution_count": 1,
   "id": "supposed-infrared",
   "metadata": {},
   "outputs": [],
   "source": [
    "import os\n",
    "import pandas as pd"
   ]
  },
  {
   "cell_type": "markdown",
   "id": "dedicated-advertiser",
   "metadata": {},
   "source": [
    "<h3>Look at each csv file</h3>"
   ]
  },
  {
   "cell_type": "code",
   "execution_count": 2,
   "id": "collectible-register",
   "metadata": {},
   "outputs": [
    {
     "data": {
      "text/html": [
       "<div>\n",
       "<style scoped>\n",
       "    .dataframe tbody tr th:only-of-type {\n",
       "        vertical-align: middle;\n",
       "    }\n",
       "\n",
       "    .dataframe tbody tr th {\n",
       "        vertical-align: top;\n",
       "    }\n",
       "\n",
       "    .dataframe thead th {\n",
       "        text-align: right;\n",
       "    }\n",
       "</style>\n",
       "<table border=\"1\" class=\"dataframe\">\n",
       "  <thead>\n",
       "    <tr style=\"text-align: right;\">\n",
       "      <th></th>\n",
       "      <th>dept_no</th>\n",
       "      <th>dept_name</th>\n",
       "    </tr>\n",
       "  </thead>\n",
       "  <tbody>\n",
       "    <tr>\n",
       "      <th>0</th>\n",
       "      <td>d001</td>\n",
       "      <td>Marketing</td>\n",
       "    </tr>\n",
       "    <tr>\n",
       "      <th>1</th>\n",
       "      <td>d002</td>\n",
       "      <td>Finance</td>\n",
       "    </tr>\n",
       "  </tbody>\n",
       "</table>\n",
       "</div>"
      ],
      "text/plain": [
       "  dept_no  dept_name\n",
       "0    d001  Marketing\n",
       "1    d002    Finance"
      ]
     },
     "execution_count": 2,
     "metadata": {},
     "output_type": "execute_result"
    }
   ],
   "source": [
    "pd.read_csv(\"./data/departments.csv\").head(2)"
   ]
  },
  {
   "cell_type": "code",
   "execution_count": 3,
   "id": "satisfied-beverage",
   "metadata": {},
   "outputs": [
    {
     "data": {
      "text/html": [
       "<div>\n",
       "<style scoped>\n",
       "    .dataframe tbody tr th:only-of-type {\n",
       "        vertical-align: middle;\n",
       "    }\n",
       "\n",
       "    .dataframe tbody tr th {\n",
       "        vertical-align: top;\n",
       "    }\n",
       "\n",
       "    .dataframe thead th {\n",
       "        text-align: right;\n",
       "    }\n",
       "</style>\n",
       "<table border=\"1\" class=\"dataframe\">\n",
       "  <thead>\n",
       "    <tr style=\"text-align: right;\">\n",
       "      <th></th>\n",
       "      <th>emp_no</th>\n",
       "      <th>dept_no</th>\n",
       "    </tr>\n",
       "  </thead>\n",
       "  <tbody>\n",
       "    <tr>\n",
       "      <th>0</th>\n",
       "      <td>10001</td>\n",
       "      <td>d005</td>\n",
       "    </tr>\n",
       "    <tr>\n",
       "      <th>1</th>\n",
       "      <td>10002</td>\n",
       "      <td>d007</td>\n",
       "    </tr>\n",
       "  </tbody>\n",
       "</table>\n",
       "</div>"
      ],
      "text/plain": [
       "   emp_no dept_no\n",
       "0   10001    d005\n",
       "1   10002    d007"
      ]
     },
     "execution_count": 3,
     "metadata": {},
     "output_type": "execute_result"
    }
   ],
   "source": [
    "pd.read_csv(\"./data/dept_emp.csv\").head(2)"
   ]
  },
  {
   "cell_type": "code",
   "execution_count": 4,
   "id": "large-street",
   "metadata": {},
   "outputs": [
    {
     "data": {
      "text/html": [
       "<div>\n",
       "<style scoped>\n",
       "    .dataframe tbody tr th:only-of-type {\n",
       "        vertical-align: middle;\n",
       "    }\n",
       "\n",
       "    .dataframe tbody tr th {\n",
       "        vertical-align: top;\n",
       "    }\n",
       "\n",
       "    .dataframe thead th {\n",
       "        text-align: right;\n",
       "    }\n",
       "</style>\n",
       "<table border=\"1\" class=\"dataframe\">\n",
       "  <thead>\n",
       "    <tr style=\"text-align: right;\">\n",
       "      <th></th>\n",
       "      <th>dept_no</th>\n",
       "      <th>emp_no</th>\n",
       "    </tr>\n",
       "  </thead>\n",
       "  <tbody>\n",
       "    <tr>\n",
       "      <th>0</th>\n",
       "      <td>d001</td>\n",
       "      <td>110022</td>\n",
       "    </tr>\n",
       "    <tr>\n",
       "      <th>1</th>\n",
       "      <td>d001</td>\n",
       "      <td>110039</td>\n",
       "    </tr>\n",
       "  </tbody>\n",
       "</table>\n",
       "</div>"
      ],
      "text/plain": [
       "  dept_no  emp_no\n",
       "0    d001  110022\n",
       "1    d001  110039"
      ]
     },
     "execution_count": 4,
     "metadata": {},
     "output_type": "execute_result"
    }
   ],
   "source": [
    "pd.read_csv(\"./data/dept_manager.csv\").head(2)"
   ]
  },
  {
   "cell_type": "code",
   "execution_count": 5,
   "id": "union-veteran",
   "metadata": {},
   "outputs": [
    {
     "data": {
      "text/html": [
       "<div>\n",
       "<style scoped>\n",
       "    .dataframe tbody tr th:only-of-type {\n",
       "        vertical-align: middle;\n",
       "    }\n",
       "\n",
       "    .dataframe tbody tr th {\n",
       "        vertical-align: top;\n",
       "    }\n",
       "\n",
       "    .dataframe thead th {\n",
       "        text-align: right;\n",
       "    }\n",
       "</style>\n",
       "<table border=\"1\" class=\"dataframe\">\n",
       "  <thead>\n",
       "    <tr style=\"text-align: right;\">\n",
       "      <th></th>\n",
       "      <th>emp_no</th>\n",
       "      <th>emp_title_id</th>\n",
       "      <th>birth_date</th>\n",
       "      <th>first_name</th>\n",
       "      <th>last_name</th>\n",
       "      <th>sex</th>\n",
       "      <th>hire_date</th>\n",
       "    </tr>\n",
       "  </thead>\n",
       "  <tbody>\n",
       "    <tr>\n",
       "      <th>0</th>\n",
       "      <td>473302</td>\n",
       "      <td>s0001</td>\n",
       "      <td>7/25/1953</td>\n",
       "      <td>Hideyuki</td>\n",
       "      <td>Zallocco</td>\n",
       "      <td>M</td>\n",
       "      <td>4/28/1990</td>\n",
       "    </tr>\n",
       "    <tr>\n",
       "      <th>1</th>\n",
       "      <td>475053</td>\n",
       "      <td>e0002</td>\n",
       "      <td>11/18/1954</td>\n",
       "      <td>Byong</td>\n",
       "      <td>Delgrande</td>\n",
       "      <td>F</td>\n",
       "      <td>9/7/1991</td>\n",
       "    </tr>\n",
       "  </tbody>\n",
       "</table>\n",
       "</div>"
      ],
      "text/plain": [
       "   emp_no emp_title_id  birth_date first_name  last_name sex  hire_date\n",
       "0  473302        s0001   7/25/1953   Hideyuki   Zallocco   M  4/28/1990\n",
       "1  475053        e0002  11/18/1954      Byong  Delgrande   F   9/7/1991"
      ]
     },
     "execution_count": 5,
     "metadata": {},
     "output_type": "execute_result"
    }
   ],
   "source": [
    "pd.read_csv(\"./data/employees.csv\").head(2)"
   ]
  },
  {
   "cell_type": "code",
   "execution_count": 6,
   "id": "ignored-michael",
   "metadata": {},
   "outputs": [
    {
     "data": {
      "text/html": [
       "<div>\n",
       "<style scoped>\n",
       "    .dataframe tbody tr th:only-of-type {\n",
       "        vertical-align: middle;\n",
       "    }\n",
       "\n",
       "    .dataframe tbody tr th {\n",
       "        vertical-align: top;\n",
       "    }\n",
       "\n",
       "    .dataframe thead th {\n",
       "        text-align: right;\n",
       "    }\n",
       "</style>\n",
       "<table border=\"1\" class=\"dataframe\">\n",
       "  <thead>\n",
       "    <tr style=\"text-align: right;\">\n",
       "      <th></th>\n",
       "      <th>emp_no</th>\n",
       "      <th>salary</th>\n",
       "    </tr>\n",
       "  </thead>\n",
       "  <tbody>\n",
       "    <tr>\n",
       "      <th>0</th>\n",
       "      <td>10001</td>\n",
       "      <td>60117</td>\n",
       "    </tr>\n",
       "    <tr>\n",
       "      <th>1</th>\n",
       "      <td>10002</td>\n",
       "      <td>65828</td>\n",
       "    </tr>\n",
       "  </tbody>\n",
       "</table>\n",
       "</div>"
      ],
      "text/plain": [
       "   emp_no  salary\n",
       "0   10001   60117\n",
       "1   10002   65828"
      ]
     },
     "execution_count": 6,
     "metadata": {},
     "output_type": "execute_result"
    }
   ],
   "source": [
    "pd.read_csv(\"./data/salaries.csv\").head(2)"
   ]
  },
  {
   "cell_type": "code",
   "execution_count": 7,
   "id": "retained-worse",
   "metadata": {},
   "outputs": [
    {
     "data": {
      "text/html": [
       "<div>\n",
       "<style scoped>\n",
       "    .dataframe tbody tr th:only-of-type {\n",
       "        vertical-align: middle;\n",
       "    }\n",
       "\n",
       "    .dataframe tbody tr th {\n",
       "        vertical-align: top;\n",
       "    }\n",
       "\n",
       "    .dataframe thead th {\n",
       "        text-align: right;\n",
       "    }\n",
       "</style>\n",
       "<table border=\"1\" class=\"dataframe\">\n",
       "  <thead>\n",
       "    <tr style=\"text-align: right;\">\n",
       "      <th></th>\n",
       "      <th>title_id</th>\n",
       "      <th>title</th>\n",
       "    </tr>\n",
       "  </thead>\n",
       "  <tbody>\n",
       "    <tr>\n",
       "      <th>0</th>\n",
       "      <td>s0001</td>\n",
       "      <td>Staff</td>\n",
       "    </tr>\n",
       "    <tr>\n",
       "      <th>1</th>\n",
       "      <td>s0002</td>\n",
       "      <td>Senior Staff</td>\n",
       "    </tr>\n",
       "  </tbody>\n",
       "</table>\n",
       "</div>"
      ],
      "text/plain": [
       "  title_id         title\n",
       "0    s0001         Staff\n",
       "1    s0002  Senior Staff"
      ]
     },
     "execution_count": 7,
     "metadata": {},
     "output_type": "execute_result"
    }
   ],
   "source": [
    "pd.read_csv(\"./data/titles.csv\").head(2)"
   ]
  },
  {
   "cell_type": "markdown",
   "id": "accepted-working",
   "metadata": {},
   "source": [
    "<h3>Read all of the columns from csv files</h3>"
   ]
  },
  {
   "cell_type": "code",
   "execution_count": 8,
   "id": "liberal-setting",
   "metadata": {},
   "outputs": [
    {
     "name": "stdout",
     "output_type": "stream",
     "text": [
      "departments.csv\n",
      " - dept_no\n",
      " - dept_name\n",
      "dept_emp.csv\n",
      " - emp_no\n",
      " - dept_no\n",
      "dept_manager.csv\n",
      " - dept_no\n",
      " - emp_no\n",
      "employees.csv\n",
      " - emp_no\n",
      " - emp_title_id\n",
      " - birth_date\n",
      " - first_name\n",
      " - last_name\n",
      " - sex\n",
      " - hire_date\n",
      "salaries.csv\n",
      " - emp_no\n",
      " - salary\n",
      "titles.csv\n",
      " - title_id\n",
      " - title\n"
     ]
    }
   ],
   "source": [
    "for file in os.listdir(\"./data\"):\n",
    "    print(file)\n",
    "    dataFrame = pd.read_csv(f\"./data/{file}\")\n",
    "    for column in dataFrame.columns:\n",
    "        print(f\" - {column}\")"
   ]
  },
  {
   "cell_type": "markdown",
   "id": "lightweight-voice",
   "metadata": {},
   "source": [
    "<h3>Create an entity relationship diagram (./EmployeeSQL/ER.png)</h3>"
   ]
  },
  {
   "cell_type": "markdown",
   "id": "presidential-hampshire",
   "metadata": {},
   "source": [
    "<img src=\"EmployeeSQL/ER.png\" />"
   ]
  },
  {
   "cell_type": "markdown",
   "id": "eligible-integral",
   "metadata": {},
   "source": [
    "<h3>Create or export sql schema from the ER diagram (./EmployeeSQL/schema.sql)</h3>"
   ]
  },
  {
   "cell_type": "markdown",
   "id": "hidden-pleasure",
   "metadata": {},
   "source": [
    "<pre>\n",
    "CREATE DATABASE employees\n",
    "    WITH \n",
    "    OWNER = postgres\n",
    "    ENCODING = 'UTF8'\n",
    "    TABLESPACE = pg_default\n",
    "    CONNECTION LIMIT = -1;\n",
    "\n",
    "CREATE TABLE \"departments\" (\n",
    "    \"dept_no\" varchar(4)   NOT NULL,\n",
    "    \"dept_name\" varchar(128)   NOT NULL,\n",
    "    CONSTRAINT \"pk_departments\" PRIMARY KEY (\n",
    "        \"dept_no\"\n",
    "     )\n",
    ");\n",
    "\n",
    "CREATE TABLE \"dept_emp\" (\n",
    "    \"emp_no\" integer   NOT NULL,\n",
    "    \"dept_no\" varchar(4)   NOT NULL,\n",
    "    CONSTRAINT \"pk_dept_emp\" PRIMARY KEY (\n",
    "        \"emp_no\",\"dept_no\"\n",
    "     )\n",
    ");\n",
    "\n",
    "CREATE TABLE \"dept_manager\" (\n",
    "    \"dept_no\" varchar(4)   NOT NULL,\n",
    "    \"emp_no\" integer   NOT NULL,\n",
    "    CONSTRAINT \"pk_dept_manager\" PRIMARY KEY (\n",
    "        \"dept_no\",\"emp_no\"\n",
    "     )\n",
    ");\n",
    "\n",
    "CREATE TABLE \"employees\" (\n",
    "    \"emp_no\" integer   NOT NULL,\n",
    "    \"emp_title_id\" varchar(128)   NOT NULL,\n",
    "    \"birth_date\" date   NOT NULL,\n",
    "    \"first_name\" varchar(128)   NOT NULL,\n",
    "    \"last_name\" varchar(128)   NOT NULL,\n",
    "    \"sex\" varchar(1)   NOT NULL,\n",
    "    \"hire_date\" date   NOT NULL,\n",
    "    CONSTRAINT \"pk_employees\" PRIMARY KEY (\n",
    "        \"emp_no\"\n",
    "     )\n",
    ");\n",
    "\n",
    "CREATE TABLE \"salaries\" (\n",
    "    \"emp_no\" integer   NOT NULL,\n",
    "    \"salary\" integer   NOT NULL,\n",
    "    CONSTRAINT \"pk_salaries\" PRIMARY KEY (\n",
    "        \"emp_no\"\n",
    "     )\n",
    ");\n",
    "\n",
    "CREATE TABLE \"titles\" (\n",
    "    \"title_id\" varchar(5)   NOT NULL,\n",
    "    \"title\" varchar(128)   NOT NULL,\n",
    "    CONSTRAINT \"pk_titles\" PRIMARY KEY (\n",
    "        \"title_id\"\n",
    "     )\n",
    ");\n",
    "\n",
    "ALTER TABLE \"dept_emp\" ADD CONSTRAINT \"fk_dept_emp_emp_no\" FOREIGN KEY(\"emp_no\")\n",
    "REFERENCES \"employees\" (\"emp_no\");\n",
    "\n",
    "ALTER TABLE \"dept_emp\" ADD CONSTRAINT \"fk_dept_emp_dept_no\" FOREIGN KEY(\"dept_no\")\n",
    "REFERENCES \"departments\" (\"dept_no\");\n",
    "\n",
    "ALTER TABLE \"dept_manager\" ADD CONSTRAINT \"fk_dept_manager_dept_no\" FOREIGN KEY(\"dept_no\")\n",
    "REFERENCES \"departments\" (\"dept_no\");\n",
    "\n",
    "ALTER TABLE \"dept_manager\" ADD CONSTRAINT \"fk_dept_manager_emp_no\" FOREIGN KEY(\"emp_no\")\n",
    "REFERENCES \"employees\" (\"emp_no\");\n",
    "\n",
    "ALTER TABLE \"employees\" ADD CONSTRAINT \"fk_employees_emp_title_id\" FOREIGN KEY(\"emp_title_id\")\n",
    "REFERENCES \"titles\" (\"title_id\");\n",
    "\n",
    "ALTER TABLE \"salaries\" ADD CONSTRAINT \"fk_salaries_emp_no\" FOREIGN KEY(\"emp_no\")\n",
    "REFERENCES \"employees\" (\"emp_no\");\n",
    "</pre>"
   ]
  },
  {
   "cell_type": "markdown",
   "id": "embedded-journal",
   "metadata": {},
   "source": [
    "<h3><center>Finally I execute all of the sql statements into the database</center></h3>"
   ]
  }
 ],
 "metadata": {
  "kernelspec": {
   "display_name": "Python [conda env:pythonData] *",
   "language": "python",
   "name": "conda-env-pythonData-py"
  },
  "language_info": {
   "codemirror_mode": {
    "name": "ipython",
    "version": 3
   },
   "file_extension": ".py",
   "mimetype": "text/x-python",
   "name": "python",
   "nbconvert_exporter": "python",
   "pygments_lexer": "ipython3",
   "version": "3.6.10"
  }
 },
 "nbformat": 4,
 "nbformat_minor": 5
}

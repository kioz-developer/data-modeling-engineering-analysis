{
 "cells": [
  {
   "cell_type": "markdown",
   "id": "early-hammer",
   "metadata": {},
   "source": [
    "<h2><center>Data Analysis</center></h2>"
   ]
  },
  {
   "cell_type": "code",
   "execution_count": 1,
   "id": "excessive-flash",
   "metadata": {},
   "outputs": [],
   "source": [
    "from sqlalchemy.ext.automap import automap_base\n",
    "from sqlalchemy.orm import Session\n",
    "from sqlalchemy import create_engine, MetaData, Table, Column, Float, Integer, String, extract, distinct, ForeignKey\n",
    "from sqlalchemy.engine import reflection\n",
    "from config import engine_url\n",
    "import pandas as pd\n",
    "import datetime as dt\n",
    "from sqlalchemy.orm import relationship"
   ]
  },
  {
   "cell_type": "code",
   "execution_count": 2,
   "id": "chinese-fifth",
   "metadata": {},
   "outputs": [],
   "source": [
    "engine = create_engine(engine_url)"
   ]
  },
  {
   "cell_type": "code",
   "execution_count": 3,
   "id": "phantom-latin",
   "metadata": {},
   "outputs": [],
   "source": [
    "# Ger connection to use with pandas\n",
    "conn = engine.connect()"
   ]
  },
  {
   "cell_type": "code",
   "execution_count": 4,
   "id": "quarterly-smoke",
   "metadata": {},
   "outputs": [],
   "source": [
    "# Open session to use with sqlalchemy\n",
    "session = Session(engine)"
   ]
  },
  {
   "cell_type": "markdown",
   "id": "incident-thompson",
   "metadata": {},
   "source": [
    "<h3>First at all, I use sqlalchemy to explore data using simple queries</h3>"
   ]
  },
  {
   "cell_type": "code",
   "execution_count": 5,
   "id": "macro-heating",
   "metadata": {},
   "outputs": [],
   "source": [
    "metadata = MetaData()\n",
    "metadata.reflect(engine, only=['employees', 'titles', 'departments', 'salaries'])\n",
    "\n",
    "Table('dept_emp', metadata,\n",
    "    Column('emp_no', Integer, primary_key=True),\n",
    "    Column('dept_no', String, primary_key=True)\n",
    ")\n",
    "\n",
    "Table('dept_manager', metadata,\n",
    "    Column('dept_no', String, primary_key=True),\n",
    "    Column('emp_no', Integer, primary_key=True)\n",
    ")\n",
    "\n",
    "Base = automap_base(metadata=metadata)\n",
    "Base.prepare()"
   ]
  },
  {
   "cell_type": "code",
   "execution_count": 6,
   "id": "equipped-cylinder",
   "metadata": {},
   "outputs": [],
   "source": [
    "Departments = Base.classes.departments\n",
    "Dept_emp = Base.classes.dept_emp\n",
    "Dept_manager = Base.classes.dept_manager\n",
    "Employees = Base.classes.employees\n",
    "Salaries = Base.classes.salaries\n",
    "Titles = Base.classes.titles"
   ]
  },
  {
   "cell_type": "code",
   "execution_count": 7,
   "id": "enclosed-quick",
   "metadata": {},
   "outputs": [
    {
     "name": "stdout",
     "output_type": "stream",
     "text": [
      "(10001, 'Facello', 'Georgi', 'M', 'M', 60117)\n",
      "(10002, 'Simmel', 'Bezalel', 'F', 'F', 65828)\n",
      "(10003, 'Bamford', 'Parto', 'M', 'M', 40006)\n",
      "(10004, 'Koblick', 'Chirstian', 'M', 'M', 40054)\n",
      "(10005, 'Maliniak', 'Kyoichi', 'M', 'M', 78228)\n",
      "(10006, 'Preusig', 'Anneke', 'F', 'F', 40000)\n",
      "(10007, 'Zielinski', 'Tzvetan', 'F', 'F', 56724)\n",
      "(10008, 'Kalloufi', 'Saniya', 'M', 'M', 46671)\n",
      "(10009, 'Peac', 'Sumant', 'F', 'F', 60929)\n",
      "(10010, 'Piveteau', 'Duangkaew', 'F', 'F', 72488)\n"
     ]
    }
   ],
   "source": [
    "# 1. List the following details of each employee: employee number, last name, first name, sex, and salary.\n",
    "results = session.query(\n",
    "    Employees.emp_no, \n",
    "    Employees.last_name, \n",
    "    Employees.first_name, \n",
    "    Employees.sex, \n",
    "    Employees.sex, \n",
    "    Salaries.salary\n",
    ").filter(\n",
    "    Employees.emp_no == Salaries.emp_no\n",
    ").limit(10).all()\n",
    "\n",
    "for result in results:\n",
    "    print(result)"
   ]
  },
  {
   "cell_type": "code",
   "execution_count": 8,
   "id": "golden-trout",
   "metadata": {},
   "outputs": [
    {
     "name": "stdout",
     "output_type": "stream",
     "text": [
      "('Eran', 'Cusworth', datetime.date(1986, 11, 14))\n",
      "('Bojan', 'Zallocco', datetime.date(1986, 10, 14))\n",
      "('Nevio', 'Demizu', datetime.date(1986, 5, 18))\n",
      "('Ziva', 'Vecchi', datetime.date(1986, 7, 3))\n",
      "('Mohit', 'Speek', datetime.date(1986, 1, 14))\n",
      "('Qunsheng', 'Speer', datetime.date(1986, 2, 13))\n",
      "('Dines', 'Encarnacion', datetime.date(1986, 8, 2))\n",
      "('Harngdar', 'Swick', datetime.date(1986, 5, 28))\n",
      "('Freyja', 'Uhrig', datetime.date(1986, 12, 20))\n",
      "('Zhenhua', 'Milicic', datetime.date(1986, 8, 4))\n"
     ]
    }
   ],
   "source": [
    "# 2. List first name, last name, and hire date for employees who were hired in 1986.\n",
    "results = session.query(\n",
    "    Employees.first_name, \n",
    "    Employees.last_name, \n",
    "    Employees.hire_date, \n",
    ").filter(\n",
    "    extract('year', Employees.hire_date) == 1986\n",
    ").limit(10).all()\n",
    "\n",
    "for result in results:\n",
    "    print(result)"
   ]
  },
  {
   "cell_type": "code",
   "execution_count": 9,
   "id": "developing-heater",
   "metadata": {},
   "outputs": [
    {
     "name": "stdout",
     "output_type": "stream",
     "text": [
      "(473302, 'Zallocco', 'Hideyuki', 'Development')\n",
      "(475053, 'Delgrande', 'Byong', 'Development')\n",
      "(57444, 'Babb', 'Berry', 'Development')\n",
      "(421786, 'Verhoeff', 'Xiong', 'Development')\n",
      "(282238, 'Baumann', 'Abdelkader', 'Development')\n",
      "(263976, 'Cusworth', 'Eran', 'Development')\n",
      "(273487, 'Parfitt', 'Christoph', 'Development')\n",
      "(461591, 'Samarati', 'Xudong', 'Development')\n",
      "(477657, 'Magliocco', 'Lihong', 'Development')\n",
      "(219881, 'Speek', 'Kwangyoen', 'Development')\n"
     ]
    }
   ],
   "source": [
    "# 3. List the department of each employee with the following information: \n",
    "#  employee number, last name, first name, and department name.\n",
    "results = session.query(\n",
    "    Employees.emp_no, \n",
    "    Employees.last_name, \n",
    "    Employees.first_name,\n",
    "    Departments.dept_name\n",
    ").filter(\n",
    "    Dept_emp.dept_no == Departments.dept_no and \n",
    "    Dept_emp.emp_no == Employees.emp_no\n",
    ").limit(10).all()\n",
    "\n",
    "for result in results:\n",
    "    print(result)"
   ]
  },
  {
   "cell_type": "code",
   "execution_count": 10,
   "id": "temporal-nicholas",
   "metadata": {},
   "outputs": [],
   "source": [
    "session.close()"
   ]
  },
  {
   "cell_type": "markdown",
   "id": "outdoor-walker",
   "metadata": {},
   "source": [
    "<h3>Secondly, I use queries directly into pandas to explore data using more complex queries</h3>"
   ]
  },
  {
   "cell_type": "code",
   "execution_count": 11,
   "id": "false-halloween",
   "metadata": {},
   "outputs": [
    {
     "data": {
      "text/html": [
       "<div>\n",
       "<style scoped>\n",
       "    .dataframe tbody tr th:only-of-type {\n",
       "        vertical-align: middle;\n",
       "    }\n",
       "\n",
       "    .dataframe tbody tr th {\n",
       "        vertical-align: top;\n",
       "    }\n",
       "\n",
       "    .dataframe thead th {\n",
       "        text-align: right;\n",
       "    }\n",
       "</style>\n",
       "<table border=\"1\" class=\"dataframe\">\n",
       "  <thead>\n",
       "    <tr style=\"text-align: right;\">\n",
       "      <th></th>\n",
       "      <th>dept_no</th>\n",
       "      <th>dept_name</th>\n",
       "      <th>emp_no</th>\n",
       "      <th>last_name</th>\n",
       "      <th>first_name</th>\n",
       "    </tr>\n",
       "  </thead>\n",
       "  <tbody>\n",
       "    <tr>\n",
       "      <th>0</th>\n",
       "      <td>d001</td>\n",
       "      <td>Marketing</td>\n",
       "      <td>110022</td>\n",
       "      <td>Markovitch</td>\n",
       "      <td>Margareta</td>\n",
       "    </tr>\n",
       "    <tr>\n",
       "      <th>1</th>\n",
       "      <td>d001</td>\n",
       "      <td>Marketing</td>\n",
       "      <td>110039</td>\n",
       "      <td>Minakawa</td>\n",
       "      <td>Vishwani</td>\n",
       "    </tr>\n",
       "    <tr>\n",
       "      <th>2</th>\n",
       "      <td>d002</td>\n",
       "      <td>Finance</td>\n",
       "      <td>110085</td>\n",
       "      <td>Alpin</td>\n",
       "      <td>Ebru</td>\n",
       "    </tr>\n",
       "  </tbody>\n",
       "</table>\n",
       "</div>"
      ],
      "text/plain": [
       "  dept_no  dept_name  emp_no   last_name first_name\n",
       "0    d001  Marketing  110022  Markovitch  Margareta\n",
       "1    d001  Marketing  110039    Minakawa   Vishwani\n",
       "2    d002    Finance  110085       Alpin       Ebru"
      ]
     },
     "execution_count": 11,
     "metadata": {},
     "output_type": "execute_result"
    }
   ],
   "source": [
    "# 4. List the manager of each department with the following information: \n",
    "#  department number, department name, the manager's employee number, last name, first name.\n",
    "data_4 = pd.read_sql(\"\"\"\n",
    "    SELECT d.dept_no, d.dept_name, dp.emp_no, e.last_name , e.first_name \n",
    "    FROM dept_manager dp\n",
    "        JOIN departments d ON d.dept_no = dp.dept_no \n",
    "        JOIN employees e ON e.emp_no = dp.emp_no; \"\"\", conn)\n",
    "\n",
    "data_4.head(3)"
   ]
  },
  {
   "cell_type": "code",
   "execution_count": 12,
   "id": "rental-power",
   "metadata": {},
   "outputs": [
    {
     "data": {
      "text/html": [
       "<div>\n",
       "<style scoped>\n",
       "    .dataframe tbody tr th:only-of-type {\n",
       "        vertical-align: middle;\n",
       "    }\n",
       "\n",
       "    .dataframe tbody tr th {\n",
       "        vertical-align: top;\n",
       "    }\n",
       "\n",
       "    .dataframe thead th {\n",
       "        text-align: right;\n",
       "    }\n",
       "</style>\n",
       "<table border=\"1\" class=\"dataframe\">\n",
       "  <thead>\n",
       "    <tr style=\"text-align: right;\">\n",
       "      <th></th>\n",
       "      <th>first_name</th>\n",
       "      <th>last_name</th>\n",
       "      <th>sex</th>\n",
       "    </tr>\n",
       "  </thead>\n",
       "  <tbody>\n",
       "    <tr>\n",
       "      <th>0</th>\n",
       "      <td>Hercules</td>\n",
       "      <td>Baer</td>\n",
       "      <td>M</td>\n",
       "    </tr>\n",
       "    <tr>\n",
       "      <th>1</th>\n",
       "      <td>Hercules</td>\n",
       "      <td>Biron</td>\n",
       "      <td>F</td>\n",
       "    </tr>\n",
       "    <tr>\n",
       "      <th>2</th>\n",
       "      <td>Hercules</td>\n",
       "      <td>Birge</td>\n",
       "      <td>F</td>\n",
       "    </tr>\n",
       "  </tbody>\n",
       "</table>\n",
       "</div>"
      ],
      "text/plain": [
       "  first_name last_name sex\n",
       "0   Hercules      Baer   M\n",
       "1   Hercules     Biron   F\n",
       "2   Hercules     Birge   F"
      ]
     },
     "execution_count": 12,
     "metadata": {},
     "output_type": "execute_result"
    }
   ],
   "source": [
    "# 5. List first name, last name, and sex for employees whose first name is \"Hercules\" and last names begin with \"B.\"\n",
    "data_5 = pd.read_sql(\"\"\"\n",
    "    SELECT first_name, last_name, sex    \n",
    "    FROM employees\n",
    "    WHERE first_name = 'Hercules' AND last_name LIKE 'B%'; \"\"\", conn)\n",
    "\n",
    "data_5.head(3)"
   ]
  },
  {
   "cell_type": "code",
   "execution_count": 13,
   "id": "adaptive-territory",
   "metadata": {},
   "outputs": [
    {
     "data": {
      "text/html": [
       "<div>\n",
       "<style scoped>\n",
       "    .dataframe tbody tr th:only-of-type {\n",
       "        vertical-align: middle;\n",
       "    }\n",
       "\n",
       "    .dataframe tbody tr th {\n",
       "        vertical-align: top;\n",
       "    }\n",
       "\n",
       "    .dataframe thead th {\n",
       "        text-align: right;\n",
       "    }\n",
       "</style>\n",
       "<table border=\"1\" class=\"dataframe\">\n",
       "  <thead>\n",
       "    <tr style=\"text-align: right;\">\n",
       "      <th></th>\n",
       "      <th>emp_no</th>\n",
       "      <th>first_name</th>\n",
       "      <th>last_name</th>\n",
       "      <th>dept_name</th>\n",
       "    </tr>\n",
       "  </thead>\n",
       "  <tbody>\n",
       "    <tr>\n",
       "      <th>0</th>\n",
       "      <td>10002</td>\n",
       "      <td>Bezalel</td>\n",
       "      <td>Simmel</td>\n",
       "      <td>Sales</td>\n",
       "    </tr>\n",
       "    <tr>\n",
       "      <th>1</th>\n",
       "      <td>10016</td>\n",
       "      <td>Kazuhito</td>\n",
       "      <td>Cappelletti</td>\n",
       "      <td>Sales</td>\n",
       "    </tr>\n",
       "    <tr>\n",
       "      <th>2</th>\n",
       "      <td>10034</td>\n",
       "      <td>Bader</td>\n",
       "      <td>Swan</td>\n",
       "      <td>Sales</td>\n",
       "    </tr>\n",
       "  </tbody>\n",
       "</table>\n",
       "</div>"
      ],
      "text/plain": [
       "   emp_no first_name    last_name dept_name\n",
       "0   10002    Bezalel       Simmel     Sales\n",
       "1   10016   Kazuhito  Cappelletti     Sales\n",
       "2   10034      Bader         Swan     Sales"
      ]
     },
     "execution_count": 13,
     "metadata": {},
     "output_type": "execute_result"
    }
   ],
   "source": [
    "# 6. List all employees in the Sales department, including their employee number, last name, first name, and department name.\n",
    "data_6 = pd.read_sql(\"\"\"\n",
    "    SELECT e.emp_no, e.first_name, e.last_name, d.dept_name \n",
    "    FROM employees e\n",
    "        JOIN dept_emp de ON de.emp_no = e.emp_no \n",
    "        JOIN departments d ON d.dept_no = de.dept_no \n",
    "    WHERE d.dept_name = 'Sales';  \"\"\", conn)\n",
    "\n",
    "data_6.head(3)"
   ]
  },
  {
   "cell_type": "code",
   "execution_count": 14,
   "id": "aggressive-detail",
   "metadata": {},
   "outputs": [
    {
     "data": {
      "text/html": [
       "<div>\n",
       "<style scoped>\n",
       "    .dataframe tbody tr th:only-of-type {\n",
       "        vertical-align: middle;\n",
       "    }\n",
       "\n",
       "    .dataframe tbody tr th {\n",
       "        vertical-align: top;\n",
       "    }\n",
       "\n",
       "    .dataframe thead th {\n",
       "        text-align: right;\n",
       "    }\n",
       "</style>\n",
       "<table border=\"1\" class=\"dataframe\">\n",
       "  <thead>\n",
       "    <tr style=\"text-align: right;\">\n",
       "      <th></th>\n",
       "      <th>emp_no</th>\n",
       "      <th>last_name</th>\n",
       "      <th>first_name</th>\n",
       "      <th>dept_name</th>\n",
       "    </tr>\n",
       "  </thead>\n",
       "  <tbody>\n",
       "    <tr>\n",
       "      <th>0</th>\n",
       "      <td>10001</td>\n",
       "      <td>Facello</td>\n",
       "      <td>Georgi</td>\n",
       "      <td>Development</td>\n",
       "    </tr>\n",
       "    <tr>\n",
       "      <th>1</th>\n",
       "      <td>10002</td>\n",
       "      <td>Simmel</td>\n",
       "      <td>Bezalel</td>\n",
       "      <td>Sales</td>\n",
       "    </tr>\n",
       "    <tr>\n",
       "      <th>2</th>\n",
       "      <td>10006</td>\n",
       "      <td>Preusig</td>\n",
       "      <td>Anneke</td>\n",
       "      <td>Development</td>\n",
       "    </tr>\n",
       "  </tbody>\n",
       "</table>\n",
       "</div>"
      ],
      "text/plain": [
       "   emp_no last_name first_name    dept_name\n",
       "0   10001   Facello     Georgi  Development\n",
       "1   10002    Simmel    Bezalel        Sales\n",
       "2   10006   Preusig     Anneke  Development"
      ]
     },
     "execution_count": 14,
     "metadata": {},
     "output_type": "execute_result"
    }
   ],
   "source": [
    "# 7. List all employees in the Sales and Development departments, including their \n",
    "#    employee number, last name, first name, and department name.\n",
    "data_7 = pd.read_sql(\"\"\"\n",
    "    SELECT e.emp_no, e.last_name, e.first_name, d.dept_name \n",
    "    FROM employees e\n",
    "        JOIN dept_emp de ON de.emp_no = e.emp_no \n",
    "        JOIN departments d ON d.dept_no = de.dept_no \n",
    "    WHERE d.dept_name IN('Sales', 'Development');  \"\"\", conn)\n",
    "\n",
    "data_7.head(3)"
   ]
  },
  {
   "cell_type": "code",
   "execution_count": 15,
   "id": "surprising-arbor",
   "metadata": {},
   "outputs": [
    {
     "data": {
      "text/html": [
       "<div>\n",
       "<style scoped>\n",
       "    .dataframe tbody tr th:only-of-type {\n",
       "        vertical-align: middle;\n",
       "    }\n",
       "\n",
       "    .dataframe tbody tr th {\n",
       "        vertical-align: top;\n",
       "    }\n",
       "\n",
       "    .dataframe thead th {\n",
       "        text-align: right;\n",
       "    }\n",
       "</style>\n",
       "<table border=\"1\" class=\"dataframe\">\n",
       "  <thead>\n",
       "    <tr style=\"text-align: right;\">\n",
       "      <th></th>\n",
       "      <th>count</th>\n",
       "      <th>last_name</th>\n",
       "    </tr>\n",
       "  </thead>\n",
       "  <tbody>\n",
       "    <tr>\n",
       "      <th>0</th>\n",
       "      <td>226</td>\n",
       "      <td>Baba</td>\n",
       "    </tr>\n",
       "    <tr>\n",
       "      <th>1</th>\n",
       "      <td>223</td>\n",
       "      <td>Gelosh</td>\n",
       "    </tr>\n",
       "    <tr>\n",
       "      <th>2</th>\n",
       "      <td>223</td>\n",
       "      <td>Coorg</td>\n",
       "    </tr>\n",
       "    <tr>\n",
       "      <th>3</th>\n",
       "      <td>222</td>\n",
       "      <td>Sudbeck</td>\n",
       "    </tr>\n",
       "  </tbody>\n",
       "</table>\n",
       "</div>"
      ],
      "text/plain": [
       "   count last_name\n",
       "0    226      Baba\n",
       "1    223    Gelosh\n",
       "2    223     Coorg\n",
       "3    222   Sudbeck"
      ]
     },
     "execution_count": 15,
     "metadata": {},
     "output_type": "execute_result"
    }
   ],
   "source": [
    "# 8. In descending order, list the frequency count of employee last names, i.e., how many employees share each last name.\n",
    "data_8 = pd.read_sql(\"\"\"\n",
    "    SELECT COUNT(last_name), last_name     \n",
    "    FROM employees\n",
    "        GROUP BY last_name \n",
    "        ORDER BY COUNT(last_name) DESC; \"\"\", conn)\n",
    "\n",
    "data_8.head(4)"
   ]
  },
  {
   "cell_type": "markdown",
   "id": "indian-shepherd",
   "metadata": {},
   "source": [
    "<h3>Bonus</h3>"
   ]
  },
  {
   "cell_type": "code",
   "execution_count": 16,
   "id": "equipped-domain",
   "metadata": {},
   "outputs": [
    {
     "data": {
      "text/plain": [
       "array([[<AxesSubplot:title={'center':'salary'}>]], dtype=object)"
      ]
     },
     "execution_count": 16,
     "metadata": {},
     "output_type": "execute_result"
    },
    {
     "data": {
      "image/png": "[encoded data removed]",
      "text/plain": [
       "<Figure size 432x288 with 1 Axes>"
      ]
     },
     "metadata": {
      "needs_background": "light"
     },
     "output_type": "display_data"
    }
   ],
   "source": [
    "# Create a histogram to visualize the most common salary ranges for employees.\n",
    "pd_hist = pd.read_sql(\"\"\"\n",
    "    SELECT salary    \n",
    "    FROM salaries; \"\"\", conn)\n",
    "\n",
    "pd_hist.hist()"
   ]
  },
  {
   "cell_type": "code",
   "execution_count": 17,
   "id": "limited-mechanics",
   "metadata": {},
   "outputs": [
    {
     "data": {
      "text/html": [
       "<div>\n",
       "<style scoped>\n",
       "    .dataframe tbody tr th:only-of-type {\n",
       "        vertical-align: middle;\n",
       "    }\n",
       "\n",
       "    .dataframe tbody tr th {\n",
       "        vertical-align: top;\n",
       "    }\n",
       "\n",
       "    .dataframe thead th {\n",
       "        text-align: right;\n",
       "    }\n",
       "</style>\n",
       "<table border=\"1\" class=\"dataframe\">\n",
       "  <thead>\n",
       "    <tr style=\"text-align: right;\">\n",
       "      <th></th>\n",
       "      <th>title</th>\n",
       "      <th>salary</th>\n",
       "    </tr>\n",
       "  </thead>\n",
       "  <tbody>\n",
       "    <tr>\n",
       "      <th>0</th>\n",
       "      <td>Engineer</td>\n",
       "      <td>48973</td>\n",
       "    </tr>\n",
       "    <tr>\n",
       "      <th>1</th>\n",
       "      <td>Senior Engineer</td>\n",
       "      <td>40000</td>\n",
       "    </tr>\n",
       "    <tr>\n",
       "      <th>2</th>\n",
       "      <td>Technique Leader</td>\n",
       "      <td>43548</td>\n",
       "    </tr>\n",
       "  </tbody>\n",
       "</table>\n",
       "</div>"
      ],
      "text/plain": [
       "              title  salary\n",
       "0          Engineer   48973\n",
       "1   Senior Engineer   40000\n",
       "2  Technique Leader   43548"
      ]
     },
     "execution_count": 17,
     "metadata": {},
     "output_type": "execute_result"
    }
   ],
   "source": [
    "# Create a bar chart of average salary by title.\n",
    "pd_salaries = pd.read_sql(\"\"\"\n",
    "    SELECT t.title, s.salary \n",
    "    From employees e \n",
    "        JOIN titles t ON e.emp_title_id = t.title_id \n",
    "        JOIN salaries s ON e.emp_no = s.emp_no; \"\"\", conn)\n",
    "\n",
    "pd_salaries.head(3)"
   ]
  },
  {
   "cell_type": "code",
   "execution_count": 18,
   "id": "corresponding-eclipse",
   "metadata": {},
   "outputs": [
    {
     "data": {
      "text/html": [
       "<div>\n",
       "<style scoped>\n",
       "    .dataframe tbody tr th:only-of-type {\n",
       "        vertical-align: middle;\n",
       "    }\n",
       "\n",
       "    .dataframe tbody tr th {\n",
       "        vertical-align: top;\n",
       "    }\n",
       "\n",
       "    .dataframe thead th {\n",
       "        text-align: right;\n",
       "    }\n",
       "</style>\n",
       "<table border=\"1\" class=\"dataframe\">\n",
       "  <thead>\n",
       "    <tr style=\"text-align: right;\">\n",
       "      <th></th>\n",
       "      <th>title</th>\n",
       "      <th>salary</th>\n",
       "    </tr>\n",
       "  </thead>\n",
       "  <tbody>\n",
       "    <tr>\n",
       "      <th>0</th>\n",
       "      <td>Assistant Engineer</td>\n",
       "      <td>48564.434447</td>\n",
       "    </tr>\n",
       "    <tr>\n",
       "      <th>1</th>\n",
       "      <td>Engineer</td>\n",
       "      <td>48535.336511</td>\n",
       "    </tr>\n",
       "    <tr>\n",
       "      <th>2</th>\n",
       "      <td>Manager</td>\n",
       "      <td>51531.041667</td>\n",
       "    </tr>\n",
       "    <tr>\n",
       "      <th>3</th>\n",
       "      <td>Senior Engineer</td>\n",
       "      <td>48506.799871</td>\n",
       "    </tr>\n",
       "    <tr>\n",
       "      <th>4</th>\n",
       "      <td>Senior Staff</td>\n",
       "      <td>58550.172704</td>\n",
       "    </tr>\n",
       "    <tr>\n",
       "      <th>5</th>\n",
       "      <td>Staff</td>\n",
       "      <td>58465.382850</td>\n",
       "    </tr>\n",
       "    <tr>\n",
       "      <th>6</th>\n",
       "      <td>Technique Leader</td>\n",
       "      <td>48582.896092</td>\n",
       "    </tr>\n",
       "  </tbody>\n",
       "</table>\n",
       "</div>"
      ],
      "text/plain": [
       "                title        salary\n",
       "0  Assistant Engineer  48564.434447\n",
       "1            Engineer  48535.336511\n",
       "2             Manager  51531.041667\n",
       "3     Senior Engineer  48506.799871\n",
       "4        Senior Staff  58550.172704\n",
       "5               Staff  58465.382850\n",
       "6    Technique Leader  48582.896092"
      ]
     },
     "execution_count": 18,
     "metadata": {},
     "output_type": "execute_result"
    }
   ],
   "source": [
    "pd_avg_salary = pd_salaries.groupby(\"title\").agg(\"mean\").reset_index()\n",
    "pd_avg_salary.head(10)"
   ]
  },
  {
   "cell_type": "code",
   "execution_count": 19,
   "id": "stuck-complex",
   "metadata": {},
   "outputs": [
    {
     "data": {
      "text/plain": [
       "<AxesSubplot:xlabel='title'>"
      ]
     },
     "execution_count": 19,
     "metadata": {},
     "output_type": "execute_result"
    },
    {
     "data": {
      "image/png": "[encoded data removed]",
      "text/plain": [
       "<Figure size 432x288 with 1 Axes>"
      ]
     },
     "metadata": {
      "needs_background": "light"
     },
     "output_type": "display_data"
    }
   ],
   "source": [
    "pd_avg_salary.plot.bar(x='title', y='salary')"
   ]
  },
  {
   "cell_type": "code",
   "execution_count": 20,
   "id": "published-resort",
   "metadata": {},
   "outputs": [
    {
     "data": {
      "text/html": [
       "<div>\n",
       "<style scoped>\n",
       "    .dataframe tbody tr th:only-of-type {\n",
       "        vertical-align: middle;\n",
       "    }\n",
       "\n",
       "    .dataframe tbody tr th {\n",
       "        vertical-align: top;\n",
       "    }\n",
       "\n",
       "    .dataframe thead th {\n",
       "        text-align: right;\n",
       "    }\n",
       "</style>\n",
       "<table border=\"1\" class=\"dataframe\">\n",
       "  <thead>\n",
       "    <tr style=\"text-align: right;\">\n",
       "      <th></th>\n",
       "      <th>salary</th>\n",
       "    </tr>\n",
       "  </thead>\n",
       "  <tbody>\n",
       "    <tr>\n",
       "      <th>0</th>\n",
       "      <td>40000</td>\n",
       "    </tr>\n",
       "  </tbody>\n",
       "</table>\n",
       "</div>"
      ],
      "text/plain": [
       "   salary\n",
       "0   40000"
      ]
     },
     "execution_count": 20,
     "metadata": {},
     "output_type": "execute_result"
    }
   ],
   "source": [
    "# Evidence in hand, you march into your boss's office and present the visualization. \n",
    "#   With a sly grin, your boss thanks you for your work. On your way out of the office, you hear the words, \n",
    "#   \"Search your ID number.\" You look down at your badge to see that your employee ID number is 499942.\n",
    "\n",
    "pd_me = pd.read_sql(\"\"\"\n",
    "    SELECT salary \n",
    "    From salaries \n",
    "    WHERE emp_no = 499942; \"\"\", conn)\n",
    "\n",
    "pd_me.head(3)"
   ]
  }
 ],
 "metadata": {
  "kernelspec": {
   "display_name": "Python [conda env:pythonData] *",
   "language": "python",
   "name": "conda-env-pythonData-py"
  },
  "language_info": {
   "codemirror_mode": {
    "name": "ipython",
    "version": 3
   },
   "file_extension": ".py",
   "mimetype": "text/x-python",
   "name": "python",
   "nbconvert_exporter": "python",
   "pygments_lexer": "ipython3",
   "version": "3.6.10"
  }
 },
 "nbformat": 4,
 "nbformat_minor": 5
}

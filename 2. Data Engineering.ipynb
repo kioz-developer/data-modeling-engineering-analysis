{
 "cells": [
  {
   "cell_type": "markdown",
   "id": "derived-agreement",
   "metadata": {},
   "source": [
    "<h2><center>Data Engineering</center></h2>"
   ]
  },
  {
   "cell_type": "code",
   "execution_count": 1,
   "id": "accompanied-perfume",
   "metadata": {},
   "outputs": [],
   "source": [
    "from sqlalchemy.ext.automap import automap_base\n",
    "from sqlalchemy.orm import Session\n",
    "from sqlalchemy import create_engine, MetaData, Table, Column, Float, Integer, String, extract, distinct, ForeignKey\n",
    "from sqlalchemy.engine import reflection\n",
    "from config import engine_url\n",
    "import pandas as pd\n",
    "import datetime as dt\n",
    "from sqlalchemy.orm import relationship"
   ]
  },
  {
   "cell_type": "code",
   "execution_count": 2,
   "id": "documented-frequency",
   "metadata": {},
   "outputs": [],
   "source": [
    "# Check EmployeeSQL/schema.sql"
   ]
  },
  {
   "cell_type": "code",
   "execution_count": 3,
   "id": "handmade-metabolism",
   "metadata": {},
   "outputs": [],
   "source": [
    "# Import each CSV file into the corresponding SQL table"
   ]
  },
  {
   "cell_type": "code",
   "execution_count": 4,
   "id": "recent-factory",
   "metadata": {},
   "outputs": [],
   "source": [
    "engine = create_engine(engine_url)\n",
    "connection = engine.connect()"
   ]
  },
  {
   "cell_type": "code",
   "execution_count": 5,
   "id": "dominican-google",
   "metadata": {},
   "outputs": [],
   "source": [
    "metadata = MetaData()\n",
    "metadata.reflect(engine, only=['employees', 'titles', 'departments', 'salaries'])\n",
    "\n",
    "Table('dept_emp', metadata,\n",
    "    Column('emp_no', Integer, primary_key=True),\n",
    "    Column('dept_no', String, primary_key=True)\n",
    ")\n",
    "\n",
    "Table('dept_manager', metadata,\n",
    "    Column('dept_no', String, primary_key=True),\n",
    "    Column('emp_no', Integer, primary_key=True)\n",
    ")\n",
    "\n",
    "Base = automap_base(metadata=metadata)\n",
    "Base.prepare()"
   ]
  },
  {
   "cell_type": "code",
   "execution_count": 4,
   "id": "contained-secretariat",
   "metadata": {},
   "outputs": [
    {
     "name": "stdout",
     "output_type": "stream",
     "text": [
      "employees\n",
      "titles\n",
      "departments\n",
      "salaries\n",
      "dept_emp\n"
     ]
    }
   ],
   "source": [
    "# Check imported tables\n",
    "for name in Base.classes.keys():\n",
    "    print(name)"
   ]
  },
  {
   "cell_type": "code",
   "execution_count": 11,
   "id": "opposite-advocate",
   "metadata": {},
   "outputs": [],
   "source": [
    "Departments = Base.classes.departments\n",
    "Dept_emp = Base.classes.dept_emp\n",
    "Dept_manager = Base.classes.dept_manager\n",
    "Employees = Base.classes.employees\n",
    "Salaries = Base.classes.salaries\n",
    "Titles = Base.classes.titles"
   ]
  },
  {
   "cell_type": "code",
   "execution_count": 21,
   "id": "middle-tongue",
   "metadata": {},
   "outputs": [
    {
     "name": "stdout",
     "output_type": "stream",
     "text": [
      "emp_no INTEGER\n",
      "salary INTEGER\n"
     ]
    }
   ],
   "source": [
    "# Check imported columns for an specific table\n",
    "table_name = \"salaries\"\n",
    "inspector = reflection.Inspector.from_engine(engine)\n",
    "columns = inspector.get_columns(table_name=table_name)\n",
    "\n",
    "for c in columns:\n",
    "    print(c['name'], c[\"type\"])"
   ]
  },
  {
   "cell_type": "code",
   "execution_count": 22,
   "id": "excess-romantic",
   "metadata": {},
   "outputs": [],
   "source": [
    "# Open session\n",
    "session = Session(engine)"
   ]
  },
  {
   "cell_type": "markdown",
   "id": "relevant-incidence",
   "metadata": {},
   "source": [
    "<h3>Read all data from csv files</h3>"
   ]
  },
  {
   "cell_type": "code",
   "execution_count": 14,
   "id": "animal-cambodia",
   "metadata": {},
   "outputs": [],
   "source": [
    "# Read all data \n",
    "data_departments = pd.read_csv(\"./data/departments.csv\")\n",
    "data_titles = pd.read_csv(\"./data/titles.csv\")\n",
    "data_employees = pd.read_csv(\"./data/employees.csv\")\n",
    "data_dept_emp = pd.read_csv(\"./data/dept_emp.csv\")\n",
    "data_dept_manager = pd.read_csv(\"./data/dept_manager.csv\")\n",
    "data_salaries = pd.read_csv(\"./data/salaries.csv\")"
   ]
  },
  {
   "cell_type": "code",
   "execution_count": 63,
   "id": "adopted-candle",
   "metadata": {},
   "outputs": [
    {
     "data": {
      "text/html": [
       "<div>\n",
       "<style scoped>\n",
       "    .dataframe tbody tr th:only-of-type {\n",
       "        vertical-align: middle;\n",
       "    }\n",
       "\n",
       "    .dataframe tbody tr th {\n",
       "        vertical-align: top;\n",
       "    }\n",
       "\n",
       "    .dataframe thead th {\n",
       "        text-align: right;\n",
       "    }\n",
       "</style>\n",
       "<table border=\"1\" class=\"dataframe\">\n",
       "  <thead>\n",
       "    <tr style=\"text-align: right;\">\n",
       "      <th></th>\n",
       "      <th>emp_no</th>\n",
       "      <th>salary</th>\n",
       "    </tr>\n",
       "  </thead>\n",
       "  <tbody>\n",
       "    <tr>\n",
       "      <th>0</th>\n",
       "      <td>10001</td>\n",
       "      <td>60117</td>\n",
       "    </tr>\n",
       "    <tr>\n",
       "      <th>1</th>\n",
       "      <td>10002</td>\n",
       "      <td>65828</td>\n",
       "    </tr>\n",
       "  </tbody>\n",
       "</table>\n",
       "</div>"
      ],
      "text/plain": [
       "   emp_no  salary\n",
       "0   10001   60117\n",
       "1   10002   65828"
      ]
     },
     "execution_count": 63,
     "metadata": {},
     "output_type": "execute_result"
    }
   ],
   "source": [
    "# Inspect one of them\n",
    "data_salaries.head(2)"
   ]
  },
  {
   "cell_type": "code",
   "execution_count": 64,
   "id": "regular-sensitivity",
   "metadata": {},
   "outputs": [
    {
     "name": "stdout",
     "output_type": "stream",
     "text": [
      "emp_no\n",
      "salary\n"
     ]
    }
   ],
   "source": [
    "# Ckeck imported columns\n",
    "for col in Salaries.__table__.columns.keys():\n",
    "    print(col)"
   ]
  },
  {
   "cell_type": "markdown",
   "id": "blond-saturn",
   "metadata": {},
   "source": [
    "<h3>Import each bunch of data into each database table</h3>"
   ]
  },
  {
   "cell_type": "code",
   "execution_count": 29,
   "id": "wanted-specialist",
   "metadata": {},
   "outputs": [],
   "source": [
    "# Import each department to db\n",
    "for index, row in data_departments.iterrows():\n",
    "    #print(row[\"dept_no\"], row[\"dept_name\"])\n",
    "    session.add(Departments(dept_no=row[\"dept_no\"], dept_name=row[\"dept_name\"]))\n",
    "\n",
    "session.commit()"
   ]
  },
  {
   "cell_type": "code",
   "execution_count": 27,
   "id": "sunset-sewing",
   "metadata": {},
   "outputs": [],
   "source": [
    "# Import each title to db\n",
    "for index, row in data_titles.iterrows():\n",
    "    session.add(Titles(title_id=row[\"title_id\"], title=row[\"title\"]))\n",
    "\n",
    "session.commit()"
   ]
  },
  {
   "cell_type": "code",
   "execution_count": 39,
   "id": "horizontal-prairie",
   "metadata": {},
   "outputs": [],
   "source": [
    "# Import each employee to db\n",
    "for index, row in data_employees.iterrows():\n",
    "    #print(row[\"emp_no\"], row[\"emp_title_id\"])\n",
    "    session.add(Employees(\n",
    "        emp_no=row[\"emp_no\"], \n",
    "        emp_title_id=row[\"emp_title_id\"], \n",
    "        birth_date=dt.datetime.strptime(row[\"birth_date\"], '%m/%d/%Y'), \n",
    "        first_name=row[\"first_name\"], \n",
    "        last_name=row[\"last_name\"], \n",
    "        sex=row[\"sex\"], \n",
    "        hire_date=dt.datetime.strptime(row[\"hire_date\"], '%m/%d/%Y')\n",
    "    ))\n",
    "\n",
    "session.commit()"
   ]
  },
  {
   "cell_type": "code",
   "execution_count": 43,
   "id": "unknown-canadian",
   "metadata": {},
   "outputs": [],
   "source": [
    "# Import dept_emp to db\n",
    "for index, row in data_dept_emp.iterrows():\n",
    "    session.add(Dept_emp(emp_no=row[\"emp_no\"], dept_no=row[\"dept_no\"]))\n",
    "\n",
    "session.commit()"
   ]
  },
  {
   "cell_type": "code",
   "execution_count": 46,
   "id": "medical-pollution",
   "metadata": {},
   "outputs": [],
   "source": [
    "# Import dept_manager to db\n",
    "for index, row in data_dept_manager.iterrows():\n",
    "    session.add(Dept_manager(dept_no=row[\"dept_no\"], emp_no=row[\"emp_no\"]))\n",
    "\n",
    "session.commit()"
   ]
  },
  {
   "cell_type": "code",
   "execution_count": 57,
   "id": "grave-commitment",
   "metadata": {},
   "outputs": [
    {
     "data": {
      "text/plain": [
       "emp_no    int64\n",
       "salary    int64\n",
       "dtype: object"
      ]
     },
     "execution_count": 57,
     "metadata": {},
     "output_type": "execute_result"
    }
   ],
   "source": [
    "data_salaries.dtypes"
   ]
  },
  {
   "cell_type": "code",
   "execution_count": 68,
   "id": "supreme-dietary",
   "metadata": {},
   "outputs": [],
   "source": [
    "# Import salaries to db\n",
    "for index, row in data_salaries.iterrows():\n",
    "    session.add(Salaries(emp_no=int(row[\"emp_no\"]), salary=int(row[\"salary\"])))\n",
    "\n",
    "session.commit()"
   ]
  },
  {
   "cell_type": "markdown",
   "id": "iraqi-express",
   "metadata": {},
   "source": [
    "<h3>Now I check all of the inserted data into database</h3>"
   ]
  }
 ],
 "metadata": {
  "kernelspec": {
   "display_name": "Python [conda env:pythonData] *",
   "language": "python",
   "name": "conda-env-pythonData-py"
  },
  "language_info": {
   "codemirror_mode": {
    "name": "ipython",
    "version": 3
   },
   "file_extension": ".py",
   "mimetype": "text/x-python",
   "name": "python",
   "nbconvert_exporter": "python",
   "pygments_lexer": "ipython3",
   "version": "3.6.10"
  }
 },
 "nbformat": 4,
 "nbformat_minor": 5
}
